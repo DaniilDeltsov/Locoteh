{
 "cells": [
  {
   "cell_type": "code",
   "execution_count": 1,
   "id": "5844edec-4c7b-4294-8654-a5fa08330de2",
   "metadata": {
    "tags": []
   },
   "outputs": [
    {
     "ename": "ModuleNotFoundError",
     "evalue": "No module named 'cv2'",
     "output_type": "error",
     "traceback": [
      "\u001b[0;31m---------------------------------------------------------------------------\u001b[0m",
      "\u001b[0;31mModuleNotFoundError\u001b[0m                       Traceback (most recent call last)",
      "Cell \u001b[0;32mIn[1], line 1\u001b[0m\n\u001b[0;32m----> 1\u001b[0m \u001b[38;5;28;01mimport\u001b[39;00m \u001b[38;5;21;01mcv2\u001b[39;00m\n\u001b[1;32m      2\u001b[0m \u001b[38;5;28;01mimport\u001b[39;00m \u001b[38;5;21;01mpandas\u001b[39;00m \u001b[38;5;28;01mas\u001b[39;00m \u001b[38;5;21;01mpd\u001b[39;00m\n\u001b[1;32m      3\u001b[0m \u001b[38;5;28;01mimport\u001b[39;00m \u001b[38;5;21;01mnumpy\u001b[39;00m \u001b[38;5;28;01mas\u001b[39;00m \u001b[38;5;21;01mnp\u001b[39;00m\n",
      "\u001b[0;31mModuleNotFoundError\u001b[0m: No module named 'cv2'"
     ]
    }
   ],
   "source": [
    "import cv2\n",
    "import pandas as pd\n",
    "import numpy as np\n",
    "import json\n",
    "import random"
   ]
  },
  {
   "cell_type": "code",
   "execution_count": 2,
   "id": "c313c766-e1ef-4147-802b-6b2f2583c08c",
   "metadata": {
    "tags": []
   },
   "outputs": [],
   "source": [
    "with open('bboxes.json', 'r') as j:\n",
    "     contents = json.loads(j.read())"
   ]
  },
  {
   "cell_type": "code",
   "execution_count": 3,
   "id": "e3e1f253-6118-47a0-917c-4bd985422871",
   "metadata": {
    "tags": []
   },
   "outputs": [],
   "source": [
    "def convert_to_yolo_box_params(box_coordinates, im_w, im_h):\n",
    "\n",
    "        ans = []\n",
    "\n",
    "        ans.append((box_coordinates[0] + box_coordinates[2]) / 2 / im_w)  # x_center\n",
    "        ans.append((box_coordinates[1] + box_coordinates[3]) / 2 / im_h)  # y_center\n",
    "      \n",
    "        ans.append((box_coordinates[2] - box_coordinates[0]) / im_w)  # width\n",
    "        ans.append((box_coordinates[3] - box_coordinates[1]) / im_h)  # height\n",
    "        return ans"
   ]
  },
  {
   "cell_type": "code",
   "execution_count": 3,
   "id": "470d7fd2-2eac-49bd-90ab-1621d5dc2945",
   "metadata": {
    "tags": []
   },
   "outputs": [],
   "source": [
    "def show_frames_w_bboxes(trim_name, df):\n",
    "    vidcap = cv2.VideoCapture(f'Video/Локотех_{trim_name}.mp4')\n",
    "    success, image = vidcap.read()\n",
    "    count = 1\n",
    "    \n",
    "    while success:\n",
    "        objects = df[df.frame == count]\n",
    "        for _, obj in objects.iterrows():\n",
    "            name = obj.label\n",
    "        \n",
    "            if name == 'bot':\n",
    "                color = (0, 230, 255)\n",
    "            elif name == 'mob':\n",
    "                color = (188, 0, 255)\n",
    "            else:\n",
    "                color = (255, 255, 255)\n",
    "                \n",
    "            t = int(obj.top)\n",
    "            h = int(obj.height)\n",
    "            l = int(obj.left)\n",
    "            w = int(obj.width)\n",
    "            \n",
    "            cv2.rectangle(image, (l + w, t), (l, t + h), color, 2)\n",
    "            \n",
    "        cv2.imshow('lol', image)\n",
    "        cv2.waitKey(0)\n",
    "        cv2.destroyWindow('lol')\n",
    "        success, image = vidcap.read()\n",
    "        count += 1"
   ]
  },
  {
   "cell_type": "code",
   "execution_count": 4,
   "id": "5971aec7-ab84-4987-9ec1-9d8f44691058",
   "metadata": {
    "tags": []
   },
   "outputs": [],
   "source": [
    "its = list(contents[2]['projects.clgwbo68i04k1071t3d8i4qo1.labels'][0]['annotations']['frames'].items())"
   ]
  },
  {
   "cell_type": "code",
   "execution_count": 5,
   "id": "a5f81a4a-e7ed-4505-a44a-7a904d401638",
   "metadata": {
    "tags": []
   },
   "outputs": [],
   "source": [
    "matrix = []\n",
    "for frame in its:\n",
    "    frame_num = frame[0]\n",
    "    objects = frame[1]['objects']\n",
    "    obj_id = objects.keys()\n",
    "\n",
    "    for aidi in obj_id:\n",
    "        row = []\n",
    "        bbox = [k[1] for k in [*objects[aidi]['bounding_box'].items()]]\n",
    "        row.append([frame_num, aidi, objects[aidi]['name'], *bbox])\n",
    "        matrix.extend(row)"
   ]
  },
  {
   "cell_type": "code",
   "execution_count": 6,
   "id": "44e3e1fd-d02e-41e5-b777-c6b3bb61dd60",
   "metadata": {
    "tags": []
   },
   "outputs": [],
   "source": [
    "df = pd.DataFrame(matrix, columns=['frame', 'object_id', 'label', 'top', 'left', 'height', 'width'])\n",
    "df.frame = df.frame.astype(int)"
   ]
  },
  {
   "cell_type": "code",
   "execution_count": 7,
   "id": "136107b1-8458-498a-81a8-0b24a53a6104",
   "metadata": {
    "tags": []
   },
   "outputs": [],
   "source": [
    "pd.options.mode.chained_assignment = None \n",
    "\n",
    "monster_df = pd.DataFrame()\n",
    "for obj in df.object_id.unique().tolist():\n",
    "    over_df = pd.DataFrame()\n",
    "    slice_bob = df[df.object_id == obj].sort_values('frame')\n",
    "    for first, second in zip(slice_bob.frame.unique().tolist(), slice_bob.frame.unique().tolist()[1:]):\n",
    "        frame_numbers = range(first, second + 1)\n",
    "        sub_set_first = slice_bob[slice_bob.frame == first][['top', 'left', 'height', 'width']]\n",
    "        sub_set_second = slice_bob[slice_bob.frame == second][['top', 'left', 'height', 'width']]\n",
    "        temp_df = pd.DataFrame({'frame': frame_numbers, \n",
    "                                'object_id': obj, \n",
    "                                'label': slice_bob.label.iloc[0], \n",
    "                                'top': sub_set_first.top.iloc[0], \n",
    "                                'left': sub_set_first.left.iloc[0], \n",
    "                                'height': sub_set_first.height.iloc[0], \n",
    "                                'width': sub_set_first.width.iloc[0]})\n",
    "        temp_df['top'].iloc[1:] = None\n",
    "        temp_df['top'].iloc[-1] = sub_set_second.top.iloc[0]\n",
    "        temp_df['left'].iloc[1:] = None\n",
    "        temp_df['left'].iloc[-1] = sub_set_second.left.iloc[0]\n",
    "        temp_df['height'].iloc[1:] = None\n",
    "        temp_df['height'].iloc[-1] = sub_set_second.height.iloc[0]\n",
    "        temp_df['width'].iloc[1:] = None\n",
    "        temp_df['width'].iloc[-1] = sub_set_second.width.iloc[0]\n",
    "        temp_df = temp_df.interpolate()\n",
    "        over_df = pd.concat([over_df, temp_df])\n",
    "    monster_df = pd.concat([monster_df, over_df])\n",
    "    \n",
    "monster_df = monster_df.drop_duplicates().sort_values('frame')"
   ]
  },
  {
   "cell_type": "code",
   "execution_count": 9,
   "id": "9d46e38d-aec6-473d-9241-62b81b4c7ced",
   "metadata": {
    "tags": []
   },
   "outputs": [
    {
     "ename": "error",
     "evalue": "OpenCV(4.7.0) D:\\a\\opencv-python\\opencv-python\\opencv\\modules\\highgui\\src\\window_w32.cpp:1261: error: (-27:Null pointer) NULL window: 'lol' in function 'cvDestroyWindow'\n",
     "output_type": "error",
     "traceback": [
      "\u001b[1;31m---------------------------------------------------------------------------\u001b[0m",
      "\u001b[1;31merror\u001b[0m                                     Traceback (most recent call last)",
      "Cell \u001b[1;32mIn[9], line 1\u001b[0m\n\u001b[1;32m----> 1\u001b[0m \u001b[43mshow_frames_w_bboxes\u001b[49m\u001b[43m(\u001b[49m\u001b[38;5;124;43m'\u001b[39;49m\u001b[38;5;124;43mTrim3\u001b[39;49m\u001b[38;5;124;43m'\u001b[39;49m\u001b[43m,\u001b[49m\u001b[43m \u001b[49m\u001b[43mmonster_df\u001b[49m\u001b[43m)\u001b[49m\n",
      "Cell \u001b[1;32mIn[3], line 27\u001b[0m, in \u001b[0;36mshow_frames_w_bboxes\u001b[1;34m(trim_name, df)\u001b[0m\n\u001b[0;32m     25\u001b[0m cv2\u001b[38;5;241m.\u001b[39mimshow(\u001b[38;5;124m'\u001b[39m\u001b[38;5;124mlol\u001b[39m\u001b[38;5;124m'\u001b[39m, image)\n\u001b[0;32m     26\u001b[0m cv2\u001b[38;5;241m.\u001b[39mwaitKey(\u001b[38;5;241m0\u001b[39m)\n\u001b[1;32m---> 27\u001b[0m \u001b[43mcv2\u001b[49m\u001b[38;5;241;43m.\u001b[39;49m\u001b[43mdestroyWindow\u001b[49m\u001b[43m(\u001b[49m\u001b[38;5;124;43m'\u001b[39;49m\u001b[38;5;124;43mlol\u001b[39;49m\u001b[38;5;124;43m'\u001b[39;49m\u001b[43m)\u001b[49m\n\u001b[0;32m     28\u001b[0m success, image \u001b[38;5;241m=\u001b[39m vidcap\u001b[38;5;241m.\u001b[39mread()\n\u001b[0;32m     29\u001b[0m count \u001b[38;5;241m+\u001b[39m\u001b[38;5;241m=\u001b[39m \u001b[38;5;241m1\u001b[39m\n",
      "\u001b[1;31merror\u001b[0m: OpenCV(4.7.0) D:\\a\\opencv-python\\opencv-python\\opencv\\modules\\highgui\\src\\window_w32.cpp:1261: error: (-27:Null pointer) NULL window: 'lol' in function 'cvDestroyWindow'\n"
     ]
    }
   ],
   "source": [
    "show_frames_w_bboxes('Trim3', monster_df)"
   ]
  },
  {
   "cell_type": "code",
   "execution_count": null,
   "id": "cca0ac23-6203-47c1-a5ed-d56c1671c1e0",
   "metadata": {},
   "outputs": [],
   "source": []
  }
 ],
 "metadata": {
  "kernelspec": {
   "display_name": "Python 3 (ipykernel)",
   "language": "python",
   "name": "python3"
  },
  "language_info": {
   "codemirror_mode": {
    "name": "ipython",
    "version": 3
   },
   "file_extension": ".py",
   "mimetype": "text/x-python",
   "name": "python",
   "nbconvert_exporter": "python",
   "pygments_lexer": "ipython3",
   "version": "3.10.9"
  }
 },
 "nbformat": 4,
 "nbformat_minor": 5
}
