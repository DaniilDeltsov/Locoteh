{
 "cells": [
  {
   "cell_type": "code",
   "execution_count": 46,
   "id": "5844edec-4c7b-4294-8654-a5fa08330de2",
   "metadata": {
    "tags": []
   },
   "outputs": [],
   "source": [
    "import cv2\n",
    "import pandas as pd\n",
    "import numpy as np\n",
    "import json"
   ]
  },
  {
   "cell_type": "code",
   "execution_count": 47,
   "id": "c313c766-e1ef-4147-802b-6b2f2583c08c",
   "metadata": {
    "tags": []
   },
   "outputs": [],
   "source": [
    "with open('bboxes.json', 'r') as j:\n",
    "     contents = json.loads(j.read())"
   ]
  },
  {
   "cell_type": "code",
   "execution_count": 67,
   "id": "470d7fd2-2eac-49bd-90ab-1621d5dc2945",
   "metadata": {
    "tags": []
   },
   "outputs": [],
   "source": [
    "def show_frames_w_bboxes(trim_name, df):\n",
    "    vidcap = cv2.VideoCapture(f'Video/Локотех_{trim_name}.mp4')\n",
    "    success, image = vidcap.read()\n",
    "    count = 1\n",
    "    \n",
    "    while success:\n",
    "        objects = df[df.frame == count]\n",
    "        for _, obj in objects.iterrows():\n",
    "            name = obj.label\n",
    "        \n",
    "            if name == 'bot':\n",
    "                color = (0, 230, 255)\n",
    "            elif name == 'mob':\n",
    "                color = (188, 0, 255)\n",
    "            else:\n",
    "                color = (255, 255, 255)\n",
    "                \n",
    "            t = int(obj.top)\n",
    "            h = int(obj.height)\n",
    "            l = int(obj.left)\n",
    "            w = int(obj.width)\n",
    "                \n",
    "            cv2.rectangle(image, (l + w, t), (l, t + h), color, 2)\n",
    "            \n",
    "        cv2.imshow('lol', image)\n",
    "        cv2.waitKey(0)\n",
    "        cv2.destroyWindow('lol')\n",
    "        success, image = vidcap.read()\n",
    "        count += 1"
   ]
  },
  {
   "cell_type": "code",
   "execution_count": 49,
   "id": "5971aec7-ab84-4987-9ec1-9d8f44691058",
   "metadata": {
    "tags": []
   },
   "outputs": [],
   "source": [
    "its = list(contents[2]['projects.clgwbo68i04k1071t3d8i4qo1.labels'][0]['annotations']['frames'].items())"
   ]
  },
  {
   "cell_type": "code",
   "execution_count": 50,
   "id": "a5f81a4a-e7ed-4505-a44a-7a904d401638",
   "metadata": {
    "tags": []
   },
   "outputs": [],
   "source": [
    "matrix = []\n",
    "for frame in its:\n",
    "    frame_num = frame[0]\n",
    "    objects = frame[1]['objects']\n",
    "    obj_id = objects.keys()\n",
    "\n",
    "    for aidi in obj_id:\n",
    "        row = []\n",
    "        bbox = [k[1] for k in [*objects[aidi]['bounding_box'].items()]]\n",
    "        row.append([frame_num, aidi, objects[aidi]['name'], *bbox])\n",
    "        matrix.extend(row)"
   ]
  },
  {
   "cell_type": "code",
   "execution_count": 51,
   "id": "44e3e1fd-d02e-41e5-b777-c6b3bb61dd60",
   "metadata": {
    "tags": []
   },
   "outputs": [],
   "source": [
    "df = pd.DataFrame(matrix, columns=['frame', 'object_id', 'label', 'top', 'left', 'height', 'width'])\n",
    "df.frame = df.frame.astype(int)"
   ]
  },
  {
   "cell_type": "code",
   "execution_count": 52,
   "id": "136107b1-8458-498a-81a8-0b24a53a6104",
   "metadata": {
    "tags": []
   },
   "outputs": [],
   "source": [
    "pd.options.mode.chained_assignment = None \n",
    "\n",
    "monster_df = pd.DataFrame()\n",
    "for obj in df.object_id.unique().tolist():\n",
    "    over_df = pd.DataFrame()\n",
    "    slice_bob = df[df.object_id == obj].sort_values('frame')\n",
    "    for first, second in zip(slice_bob.frame.unique().tolist(), slice_bob.frame.unique().tolist()[1:]):\n",
    "        frame_numbers = range(first, second + 1)\n",
    "        sub_set_first = slice_bob[slice_bob.frame == first][['top', 'left', 'height', 'width']]\n",
    "        sub_set_second = slice_bob[slice_bob.frame == second][['top', 'left', 'height', 'width']]\n",
    "        temp_df = pd.DataFrame({'frame': frame_numbers, \n",
    "                                'object_id': obj, \n",
    "                                'label': slice_bob.label.iloc[0], \n",
    "                                'top': sub_set_first.top.iloc[0], \n",
    "                                'left': sub_set_first.left.iloc[0], \n",
    "                                'height': sub_set_first.height.iloc[0], \n",
    "                                'width': sub_set_first.width.iloc[0]})\n",
    "        temp_df['top'].iloc[1:] = None\n",
    "        temp_df['top'].iloc[-1] = sub_set_second.top.iloc[0]\n",
    "        temp_df['left'].iloc[1:] = None\n",
    "        temp_df['left'].iloc[-1] = sub_set_second.left.iloc[0]\n",
    "        temp_df['height'].iloc[1:] = None\n",
    "        temp_df['height'].iloc[-1] = sub_set_second.height.iloc[0]\n",
    "        temp_df['width'].iloc[1:] = None\n",
    "        temp_df['width'].iloc[-1] = sub_set_second.width.iloc[0]\n",
    "        temp_df = temp_df.interpolate()\n",
    "        over_df = pd.concat([over_df, temp_df])\n",
    "    monster_df = pd.concat([monster_df, over_df])\n",
    "    \n",
    "monster_df = monster_df.drop_duplicates().sort_values('frame')"
   ]
  },
  {
   "cell_type": "code",
   "execution_count": 68,
   "id": "3def6a0d-a032-487c-bc7e-ffcd3170051d",
   "metadata": {
    "tags": []
   },
   "outputs": [
    {
     "ename": "error",
     "evalue": "OpenCV(4.7.0) D:\\a\\opencv-python\\opencv-python\\opencv\\modules\\highgui\\src\\window_w32.cpp:1261: error: (-27:Null pointer) NULL window: 'lol' in function 'cvDestroyWindow'\n",
     "output_type": "error",
     "traceback": [
      "\u001b[1;31m---------------------------------------------------------------------------\u001b[0m",
      "\u001b[1;31merror\u001b[0m                                     Traceback (most recent call last)",
      "Cell \u001b[1;32mIn[68], line 1\u001b[0m\n\u001b[1;32m----> 1\u001b[0m \u001b[43mshow_frames_w_bboxes\u001b[49m\u001b[43m(\u001b[49m\u001b[38;5;124;43m'\u001b[39;49m\u001b[38;5;124;43mTrim3\u001b[39;49m\u001b[38;5;124;43m'\u001b[39;49m\u001b[43m,\u001b[49m\u001b[43m \u001b[49m\u001b[43mmonster_df\u001b[49m\u001b[43m)\u001b[49m\n",
      "Cell \u001b[1;32mIn[67], line 27\u001b[0m, in \u001b[0;36mshow_frames_w_bboxes\u001b[1;34m(trim_name, df)\u001b[0m\n\u001b[0;32m     25\u001b[0m cv2\u001b[38;5;241m.\u001b[39mimshow(\u001b[38;5;124m'\u001b[39m\u001b[38;5;124mlol\u001b[39m\u001b[38;5;124m'\u001b[39m, image)\n\u001b[0;32m     26\u001b[0m cv2\u001b[38;5;241m.\u001b[39mwaitKey(\u001b[38;5;241m0\u001b[39m)\n\u001b[1;32m---> 27\u001b[0m \u001b[43mcv2\u001b[49m\u001b[38;5;241;43m.\u001b[39;49m\u001b[43mdestroyWindow\u001b[49m\u001b[43m(\u001b[49m\u001b[38;5;124;43m'\u001b[39;49m\u001b[38;5;124;43mlol\u001b[39;49m\u001b[38;5;124;43m'\u001b[39;49m\u001b[43m)\u001b[49m\n\u001b[0;32m     28\u001b[0m success, image \u001b[38;5;241m=\u001b[39m vidcap\u001b[38;5;241m.\u001b[39mread()\n\u001b[0;32m     29\u001b[0m count \u001b[38;5;241m+\u001b[39m\u001b[38;5;241m=\u001b[39m \u001b[38;5;241m1\u001b[39m\n",
      "\u001b[1;31merror\u001b[0m: OpenCV(4.7.0) D:\\a\\opencv-python\\opencv-python\\opencv\\modules\\highgui\\src\\window_w32.cpp:1261: error: (-27:Null pointer) NULL window: 'lol' in function 'cvDestroyWindow'\n"
     ]
    }
   ],
   "source": [
    "show_frames_w_bboxes('Trim3', monster_df)"
   ]
  },
  {
   "cell_type": "code",
   "execution_count": 54,
   "id": "16f7dc6e-80e1-402f-bf8e-a09dd48ad862",
   "metadata": {
    "tags": []
   },
   "outputs": [],
   "source": [
    "def convert_to_yolo_v7(df):\n",
    "    tmp = df.copy()\n",
    "    tmp['top'] = tmp['top'] / 608\n",
    "    tmp['left'] = tmp['left'] / 608\n",
    "    tmp['height'] = tmp['height'] / 608\n",
    "    tmp['width'] = tmp['width'] / 608\n",
    "    tmp['label'] = tmp['label'].replace({'bot': 0, 'mob': 1})\n",
    "    \n",
    "    # tmp['rank'] = tmp.groupby('frame').object_id.rank(method='dense').astype(int)\n",
    "    # tmp['filename'] = tmp['frame'].astype(str) + '_' + tmp['rank'].astype(str)\n",
    "    return tmp.drop(columns=['object_id']).reset_index(drop=True)"
   ]
  },
  {
   "cell_type": "code",
   "execution_count": 55,
   "id": "772c3f93-ce3a-42ca-a470-6aae981e57a4",
   "metadata": {
    "tags": []
   },
   "outputs": [],
   "source": [
    "df_yolo = convert_to_yolo_v7(monster_df)"
   ]
  },
  {
   "cell_type": "code",
   "execution_count": 56,
   "id": "cc5dbedc-b1e3-4177-b707-a02249274e01",
   "metadata": {
    "tags": []
   },
   "outputs": [
    {
     "data": {
      "text/html": [
       "<div>\n",
       "<style scoped>\n",
       "    .dataframe tbody tr th:only-of-type {\n",
       "        vertical-align: middle;\n",
       "    }\n",
       "\n",
       "    .dataframe tbody tr th {\n",
       "        vertical-align: top;\n",
       "    }\n",
       "\n",
       "    .dataframe thead th {\n",
       "        text-align: right;\n",
       "    }\n",
       "</style>\n",
       "<table border=\"1\" class=\"dataframe\">\n",
       "  <thead>\n",
       "    <tr style=\"text-align: right;\">\n",
       "      <th></th>\n",
       "      <th>frame</th>\n",
       "      <th>object_id</th>\n",
       "      <th>label</th>\n",
       "      <th>top</th>\n",
       "      <th>left</th>\n",
       "      <th>height</th>\n",
       "      <th>width</th>\n",
       "    </tr>\n",
       "  </thead>\n",
       "  <tbody>\n",
       "    <tr>\n",
       "      <th>0</th>\n",
       "      <td>1</td>\n",
       "      <td>clgwczv1p001a356jsdzjjxll</td>\n",
       "      <td>bot</td>\n",
       "      <td>528.0</td>\n",
       "      <td>331.0</td>\n",
       "      <td>191.0</td>\n",
       "      <td>133.0</td>\n",
       "    </tr>\n",
       "    <tr>\n",
       "      <th>0</th>\n",
       "      <td>1</td>\n",
       "      <td>clgwde9rc001s356joqdedjv9</td>\n",
       "      <td>mob</td>\n",
       "      <td>183.0</td>\n",
       "      <td>640.0</td>\n",
       "      <td>60.0</td>\n",
       "      <td>22.0</td>\n",
       "    </tr>\n",
       "    <tr>\n",
       "      <th>0</th>\n",
       "      <td>1</td>\n",
       "      <td>clgwde66w001o356jka0sdgs6</td>\n",
       "      <td>mob</td>\n",
       "      <td>191.0</td>\n",
       "      <td>600.0</td>\n",
       "      <td>92.0</td>\n",
       "      <td>33.0</td>\n",
       "    </tr>\n",
       "    <tr>\n",
       "      <th>0</th>\n",
       "      <td>1</td>\n",
       "      <td>clgwd3nhy001k356j4eixwwax</td>\n",
       "      <td>bot</td>\n",
       "      <td>168.0</td>\n",
       "      <td>573.0</td>\n",
       "      <td>67.0</td>\n",
       "      <td>23.0</td>\n",
       "    </tr>\n",
       "    <tr>\n",
       "      <th>1</th>\n",
       "      <td>2</td>\n",
       "      <td>clgwczv1p001a356jsdzjjxll</td>\n",
       "      <td>bot</td>\n",
       "      <td>522.4</td>\n",
       "      <td>337.6</td>\n",
       "      <td>196.6</td>\n",
       "      <td>131.2</td>\n",
       "    </tr>\n",
       "    <tr>\n",
       "      <th>...</th>\n",
       "      <td>...</td>\n",
       "      <td>...</td>\n",
       "      <td>...</td>\n",
       "      <td>...</td>\n",
       "      <td>...</td>\n",
       "      <td>...</td>\n",
       "      <td>...</td>\n",
       "    </tr>\n",
       "    <tr>\n",
       "      <th>56</th>\n",
       "      <td>2637</td>\n",
       "      <td>clgwde9rc001s356joqdedjv9</td>\n",
       "      <td>mob</td>\n",
       "      <td>171.0</td>\n",
       "      <td>632.0</td>\n",
       "      <td>61.0</td>\n",
       "      <td>29.0</td>\n",
       "    </tr>\n",
       "    <tr>\n",
       "      <th>57</th>\n",
       "      <td>2638</td>\n",
       "      <td>clgwde9rc001s356joqdedjv9</td>\n",
       "      <td>mob</td>\n",
       "      <td>171.0</td>\n",
       "      <td>632.0</td>\n",
       "      <td>61.0</td>\n",
       "      <td>29.0</td>\n",
       "    </tr>\n",
       "    <tr>\n",
       "      <th>58</th>\n",
       "      <td>2639</td>\n",
       "      <td>clgwde9rc001s356joqdedjv9</td>\n",
       "      <td>mob</td>\n",
       "      <td>171.0</td>\n",
       "      <td>632.0</td>\n",
       "      <td>61.0</td>\n",
       "      <td>29.0</td>\n",
       "    </tr>\n",
       "    <tr>\n",
       "      <th>59</th>\n",
       "      <td>2640</td>\n",
       "      <td>clgwde9rc001s356joqdedjv9</td>\n",
       "      <td>mob</td>\n",
       "      <td>171.0</td>\n",
       "      <td>632.0</td>\n",
       "      <td>61.0</td>\n",
       "      <td>29.0</td>\n",
       "    </tr>\n",
       "    <tr>\n",
       "      <th>60</th>\n",
       "      <td>2641</td>\n",
       "      <td>clgwde9rc001s356joqdedjv9</td>\n",
       "      <td>mob</td>\n",
       "      <td>171.0</td>\n",
       "      <td>632.0</td>\n",
       "      <td>61.0</td>\n",
       "      <td>29.0</td>\n",
       "    </tr>\n",
       "  </tbody>\n",
       "</table>\n",
       "<p>5621 rows × 7 columns</p>\n",
       "</div>"
      ],
      "text/plain": [
       "    frame                  object_id label    top   left  height  width\n",
       "0       1  clgwczv1p001a356jsdzjjxll   bot  528.0  331.0   191.0  133.0\n",
       "0       1  clgwde9rc001s356joqdedjv9   mob  183.0  640.0    60.0   22.0\n",
       "0       1  clgwde66w001o356jka0sdgs6   mob  191.0  600.0    92.0   33.0\n",
       "0       1  clgwd3nhy001k356j4eixwwax   bot  168.0  573.0    67.0   23.0\n",
       "1       2  clgwczv1p001a356jsdzjjxll   bot  522.4  337.6   196.6  131.2\n",
       "..    ...                        ...   ...    ...    ...     ...    ...\n",
       "56   2637  clgwde9rc001s356joqdedjv9   mob  171.0  632.0    61.0   29.0\n",
       "57   2638  clgwde9rc001s356joqdedjv9   mob  171.0  632.0    61.0   29.0\n",
       "58   2639  clgwde9rc001s356joqdedjv9   mob  171.0  632.0    61.0   29.0\n",
       "59   2640  clgwde9rc001s356joqdedjv9   mob  171.0  632.0    61.0   29.0\n",
       "60   2641  clgwde9rc001s356joqdedjv9   mob  171.0  632.0    61.0   29.0\n",
       "\n",
       "[5621 rows x 7 columns]"
      ]
     },
     "execution_count": 56,
     "metadata": {},
     "output_type": "execute_result"
    }
   ],
   "source": [
    "monster_df"
   ]
  },
  {
   "cell_type": "code",
   "execution_count": 57,
   "id": "ade893de-cdde-40fe-ba6d-2803d4b1c507",
   "metadata": {
    "tags": []
   },
   "outputs": [
    {
     "data": {
      "text/html": [
       "<div>\n",
       "<style scoped>\n",
       "    .dataframe tbody tr th:only-of-type {\n",
       "        vertical-align: middle;\n",
       "    }\n",
       "\n",
       "    .dataframe tbody tr th {\n",
       "        vertical-align: top;\n",
       "    }\n",
       "\n",
       "    .dataframe thead th {\n",
       "        text-align: right;\n",
       "    }\n",
       "</style>\n",
       "<table border=\"1\" class=\"dataframe\">\n",
       "  <thead>\n",
       "    <tr style=\"text-align: right;\">\n",
       "      <th></th>\n",
       "      <th>frame</th>\n",
       "      <th>label</th>\n",
       "      <th>top</th>\n",
       "      <th>left</th>\n",
       "      <th>height</th>\n",
       "      <th>width</th>\n",
       "    </tr>\n",
       "  </thead>\n",
       "  <tbody>\n",
       "    <tr>\n",
       "      <th>0</th>\n",
       "      <td>1</td>\n",
       "      <td>0</td>\n",
       "      <td>0.868421</td>\n",
       "      <td>0.544408</td>\n",
       "      <td>0.314145</td>\n",
       "      <td>0.218750</td>\n",
       "    </tr>\n",
       "    <tr>\n",
       "      <th>1</th>\n",
       "      <td>1</td>\n",
       "      <td>1</td>\n",
       "      <td>0.300987</td>\n",
       "      <td>1.052632</td>\n",
       "      <td>0.098684</td>\n",
       "      <td>0.036184</td>\n",
       "    </tr>\n",
       "    <tr>\n",
       "      <th>2</th>\n",
       "      <td>1</td>\n",
       "      <td>1</td>\n",
       "      <td>0.314145</td>\n",
       "      <td>0.986842</td>\n",
       "      <td>0.151316</td>\n",
       "      <td>0.054276</td>\n",
       "    </tr>\n",
       "    <tr>\n",
       "      <th>3</th>\n",
       "      <td>1</td>\n",
       "      <td>0</td>\n",
       "      <td>0.276316</td>\n",
       "      <td>0.942434</td>\n",
       "      <td>0.110197</td>\n",
       "      <td>0.037829</td>\n",
       "    </tr>\n",
       "    <tr>\n",
       "      <th>4</th>\n",
       "      <td>2</td>\n",
       "      <td>0</td>\n",
       "      <td>0.859211</td>\n",
       "      <td>0.555263</td>\n",
       "      <td>0.323355</td>\n",
       "      <td>0.215789</td>\n",
       "    </tr>\n",
       "    <tr>\n",
       "      <th>...</th>\n",
       "      <td>...</td>\n",
       "      <td>...</td>\n",
       "      <td>...</td>\n",
       "      <td>...</td>\n",
       "      <td>...</td>\n",
       "      <td>...</td>\n",
       "    </tr>\n",
       "    <tr>\n",
       "      <th>5616</th>\n",
       "      <td>2637</td>\n",
       "      <td>1</td>\n",
       "      <td>0.281250</td>\n",
       "      <td>1.039474</td>\n",
       "      <td>0.100329</td>\n",
       "      <td>0.047697</td>\n",
       "    </tr>\n",
       "    <tr>\n",
       "      <th>5617</th>\n",
       "      <td>2638</td>\n",
       "      <td>1</td>\n",
       "      <td>0.281250</td>\n",
       "      <td>1.039474</td>\n",
       "      <td>0.100329</td>\n",
       "      <td>0.047697</td>\n",
       "    </tr>\n",
       "    <tr>\n",
       "      <th>5618</th>\n",
       "      <td>2639</td>\n",
       "      <td>1</td>\n",
       "      <td>0.281250</td>\n",
       "      <td>1.039474</td>\n",
       "      <td>0.100329</td>\n",
       "      <td>0.047697</td>\n",
       "    </tr>\n",
       "    <tr>\n",
       "      <th>5619</th>\n",
       "      <td>2640</td>\n",
       "      <td>1</td>\n",
       "      <td>0.281250</td>\n",
       "      <td>1.039474</td>\n",
       "      <td>0.100329</td>\n",
       "      <td>0.047697</td>\n",
       "    </tr>\n",
       "    <tr>\n",
       "      <th>5620</th>\n",
       "      <td>2641</td>\n",
       "      <td>1</td>\n",
       "      <td>0.281250</td>\n",
       "      <td>1.039474</td>\n",
       "      <td>0.100329</td>\n",
       "      <td>0.047697</td>\n",
       "    </tr>\n",
       "  </tbody>\n",
       "</table>\n",
       "<p>5621 rows × 6 columns</p>\n",
       "</div>"
      ],
      "text/plain": [
       "      frame  label       top      left    height     width\n",
       "0         1      0  0.868421  0.544408  0.314145  0.218750\n",
       "1         1      1  0.300987  1.052632  0.098684  0.036184\n",
       "2         1      1  0.314145  0.986842  0.151316  0.054276\n",
       "3         1      0  0.276316  0.942434  0.110197  0.037829\n",
       "4         2      0  0.859211  0.555263  0.323355  0.215789\n",
       "...     ...    ...       ...       ...       ...       ...\n",
       "5616   2637      1  0.281250  1.039474  0.100329  0.047697\n",
       "5617   2638      1  0.281250  1.039474  0.100329  0.047697\n",
       "5618   2639      1  0.281250  1.039474  0.100329  0.047697\n",
       "5619   2640      1  0.281250  1.039474  0.100329  0.047697\n",
       "5620   2641      1  0.281250  1.039474  0.100329  0.047697\n",
       "\n",
       "[5621 rows x 6 columns]"
      ]
     },
     "execution_count": 57,
     "metadata": {},
     "output_type": "execute_result"
    }
   ],
   "source": [
    "df_yolo"
   ]
  },
  {
   "cell_type": "code",
   "execution_count": null,
   "id": "a2880ad5-08da-4b42-aa3b-a4c28d371e99",
   "metadata": {},
   "outputs": [],
   "source": []
  },
  {
   "cell_type": "code",
   "execution_count": 115,
   "id": "165a2c0d-d1b7-42f0-92e6-7340ee7b401f",
   "metadata": {
    "tags": []
   },
   "outputs": [
    {
     "data": {
      "text/plain": [
       "(0.6537828947368421, 1.0254934210526316, 0.21875, 0.31414473684210525)"
      ]
     },
     "execution_count": 115,
     "metadata": {},
     "output_type": "execute_result"
    }
   ],
   "source": [
    "import pybboxes as pbx\n",
    "\n",
    "voc_bbox = (331, 528, 133, 191)\n",
    "W, H = 608, 608  # WxH of the image\n",
    "ff = pbx.convert_bbox(voc_bbox, from_type=\"coco\", to_type=\"fiftyone\", image_size=(W, H))\n",
    "pbx.convert_bbox(ff, from_type=\"fiftyone\", to_type=\"yolo\", image_size=(W, H))"
   ]
  },
  {
   "cell_type": "code",
   "execution_count": null,
   "id": "9bd5b897-6747-448e-8206-45229f0ebe0b",
   "metadata": {},
   "outputs": [],
   "source": []
  },
  {
   "cell_type": "code",
   "execution_count": null,
   "id": "ea786d95-5221-4fec-97cf-5d6fdae36bf4",
   "metadata": {},
   "outputs": [],
   "source": []
  },
  {
   "cell_type": "code",
   "execution_count": null,
   "id": "facf7fca-80a2-4cf7-9765-b6ec10db815a",
   "metadata": {},
   "outputs": [],
   "source": []
  },
  {
   "cell_type": "code",
   "execution_count": 116,
   "id": "5b2a8d0c-b78c-45f1-b4ec-90486e55a9aa",
   "metadata": {
    "tags": []
   },
   "outputs": [],
   "source": [
    "# do not run anything below this line"
   ]
  },
  {
   "cell_type": "code",
   "execution_count": 11,
   "id": "169bcfaf-9555-4a8f-9af6-90cb2255f993",
   "metadata": {},
   "outputs": [],
   "source": [
    "def save_frames(trim_name, df):\n",
    "    \n",
    "    vidcap = cv2.VideoCapture(f'Video/Локотех_{trim_name}.mp4')\n",
    "    success, image = vidcap.read()\n",
    "    count = 1\n",
    "    \n",
    "    while success:\n",
    "        image = cv2.resize(image, (608, 608))\n",
    "        cv2.imwrite(f\"Images/{trim_name[-1]}_{count}.jpg\", image)\n",
    "        annotations = df[df.frame == count].drop(columns='frame')\n",
    "        annotations.to_csv(f\"Images/{trim_name[-1]}_{count}.txt\", header=None, index=None, sep=' ')\n",
    "        \n",
    "        success,image = vidcap.read()\n",
    "        count += 1"
   ]
  },
  {
   "cell_type": "code",
   "execution_count": 12,
   "id": "b48d65c1-c252-4c06-9fe3-74d02d137b45",
   "metadata": {},
   "outputs": [],
   "source": [
    "save_frames('Trim3', df_yolo)"
   ]
  },
  {
   "cell_type": "code",
   "execution_count": 13,
   "id": "6eb7cf8a-6951-4a1a-b0ac-bd815f6db6dd",
   "metadata": {},
   "outputs": [],
   "source": [
    "import glob\n",
    "import os\n",
    "import random \n",
    "\n",
    "def train_val_split(folder):\n",
    "    if os.getcwd() != folder:\n",
    "        os.chdir(f\"{folder}\")\n",
    "    \n",
    "    images = glob.glob(\"*.jpg\")\n",
    "    annots = glob.glob(\"*.txt\")\n",
    "    \n",
    "    val_images = random.sample(images, int(len(images) * 0.2))\n",
    "    test_images = random.sample(val_images, int(len(val_images) * 0.3))\n",
    "    \n",
    "    train_folder = '/Users/dushamishkin/Desktop/Jupyter/HAR/yolov7/train'\n",
    "    test_folder = '/Users/dushamishkin/Desktop/Jupyter/HAR/yolov7/test'\n",
    "    val_folder = '/Users/dushamishkin/Desktop/Jupyter/HAR/yolov7/valid'\n",
    "    \n",
    "    for name in images:\n",
    "        name = name[:-4]\n",
    "        if f\"{name}.jpg\" in val_images:\n",
    "            \n",
    "            if f\"{name}.jpg\" in test_images:\n",
    "                os.replace(f\"{folder}/{name}.jpg\", f\"{test_folder}/images/{name}.jpg\")\n",
    "                os.replace(f\"{folder}/{name}.txt\", f\"{test_folder}/labels/{name}.txt\")\n",
    "            \n",
    "            else:\n",
    "                os.replace(f\"{folder}/{name}.jpg\", f\"{val_folder}/images/{name}.jpg\")\n",
    "                os.replace(f\"{folder}/{name}.txt\", f\"{val_folder}/labels/{name}.txt\")\n",
    "            \n",
    "        else:\n",
    "            os.replace(f\"{folder}/{name}.jpg\", f\"{train_folder}/images/{name}.jpg\")\n",
    "            os.replace(f\"{folder}/{name}.txt\", f\"{train_folder}/labels/{name}.txt\")\n",
    "        \n",
    "    os.chdir('/Users/dushamishkin/Desktop/Jupyter/HAR/')"
   ]
  },
  {
   "cell_type": "code",
   "execution_count": 14,
   "id": "52c897b6-3286-411f-80af-3c0fbfd5f618",
   "metadata": {},
   "outputs": [],
   "source": [
    "train_val_split('/Users/dushamishkin/Desktop/Jupyter/HAR/Images')"
   ]
  }
 ],
 "metadata": {
  "kernelspec": {
   "display_name": "Python 3 (ipykernel)",
   "language": "python",
   "name": "python3"
  },
  "language_info": {
   "codemirror_mode": {
    "name": "ipython",
    "version": 3
   },
   "file_extension": ".py",
   "mimetype": "text/x-python",
   "name": "python",
   "nbconvert_exporter": "python",
   "pygments_lexer": "ipython3",
   "version": "3.10.10"
  }
 },
 "nbformat": 4,
 "nbformat_minor": 5
}
