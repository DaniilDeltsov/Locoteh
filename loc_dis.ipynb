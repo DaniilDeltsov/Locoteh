{
 "cells": [
  {
   "cell_type": "code",
   "execution_count": 1,
   "id": "5844edec-4c7b-4294-8654-a5fa08330de2",
   "metadata": {
    "tags": []
   },
   "outputs": [],
   "source": [
    "import cv2\n",
    "import pandas as pd\n",
    "import numpy as np\n",
    "import json"
   ]
  },
  {
   "cell_type": "code",
   "execution_count": 2,
   "id": "c313c766-e1ef-4147-802b-6b2f2583c08c",
   "metadata": {
    "tags": []
   },
   "outputs": [],
   "source": [
    "with open('bboxes.json', 'r') as j:\n",
    "     contents = json.loads(j.read())"
   ]
  },
  {
   "cell_type": "code",
   "execution_count": 3,
   "id": "470d7fd2-2eac-49bd-90ab-1621d5dc2945",
   "metadata": {
    "tags": []
   },
   "outputs": [],
   "source": [
    "def show_frames_w_bboxes(trim_name, df):\n",
    "    vidcap = cv2.VideoCapture(f'Video/Локотех_{trim_name}.mp4')\n",
    "    success, image = vidcap.read()\n",
    "    count = 1\n",
    "    \n",
    "    while success:\n",
    "        objects = df[df.frame == count]\n",
    "        for _, obj in objects.iterrows():\n",
    "            name = obj.label\n",
    "        \n",
    "            if name == 'bot':\n",
    "                color = (0, 230, 255)\n",
    "            elif name == 'mob':\n",
    "                color = (188, 0, 255)\n",
    "            else:\n",
    "                color = (255, 255, 255)\n",
    "                \n",
    "            t = int(obj.top)\n",
    "            h = int(obj.height)\n",
    "            l = int(obj.left)\n",
    "            w = int(obj.width)\n",
    "            \n",
    "            cv2.rectangle(image, (l + w, t), (l, t + h), color, 2)\n",
    "            \n",
    "        cv2.imshow('lol', image)\n",
    "        cv2.waitKey(0)\n",
    "        cv2.destroyWindow('lol')\n",
    "        success, image = vidcap.read()\n",
    "        count += 1"
   ]
  },
  {
   "cell_type": "code",
   "execution_count": 4,
   "id": "5971aec7-ab84-4987-9ec1-9d8f44691058",
   "metadata": {
    "tags": []
   },
   "outputs": [],
   "source": [
    "its = list(contents[2]['projects.clgwbo68i04k1071t3d8i4qo1.labels'][0]['annotations']['frames'].items())"
   ]
  },
  {
   "cell_type": "code",
   "execution_count": 5,
   "id": "a5f81a4a-e7ed-4505-a44a-7a904d401638",
   "metadata": {
    "tags": []
   },
   "outputs": [],
   "source": [
    "matrix = []\n",
    "for frame in its:\n",
    "    frame_num = frame[0]\n",
    "    objects = frame[1]['objects']\n",
    "    obj_id = objects.keys()\n",
    "\n",
    "    for aidi in obj_id:\n",
    "        row = []\n",
    "        bbox = [k[1] for k in [*objects[aidi]['bounding_box'].items()]]\n",
    "        row.append([frame_num, aidi, objects[aidi]['name'], *bbox])\n",
    "        matrix.extend(row)"
   ]
  },
  {
   "cell_type": "code",
   "execution_count": 6,
   "id": "44e3e1fd-d02e-41e5-b777-c6b3bb61dd60",
   "metadata": {
    "tags": []
   },
   "outputs": [],
   "source": [
    "df = pd.DataFrame(matrix, columns=['frame', 'object_id', 'label', 'top', 'left', 'height', 'width'])\n",
    "df.frame = df.frame.astype(int)"
   ]
  },
  {
   "cell_type": "code",
   "execution_count": 7,
   "id": "136107b1-8458-498a-81a8-0b24a53a6104",
   "metadata": {
    "tags": []
   },
   "outputs": [],
   "source": [
    "pd.options.mode.chained_assignment = None \n",
    "\n",
    "monster_df = pd.DataFrame()\n",
    "for obj in df.object_id.unique().tolist():\n",
    "    over_df = pd.DataFrame()\n",
    "    slice_bob = df[df.object_id == obj].sort_values('frame')\n",
    "    for first, second in zip(slice_bob.frame.unique().tolist(), slice_bob.frame.unique().tolist()[1:]):\n",
    "        frame_numbers = range(first, second + 1)\n",
    "        sub_set_first = slice_bob[slice_bob.frame == first][['top', 'left', 'height', 'width']]\n",
    "        sub_set_second = slice_bob[slice_bob.frame == second][['top', 'left', 'height', 'width']]\n",
    "        temp_df = pd.DataFrame({'frame': frame_numbers, \n",
    "                                'object_id': obj, \n",
    "                                'label': slice_bob.label.iloc[0], \n",
    "                                'top': sub_set_first.top.iloc[0], \n",
    "                                'left': sub_set_first.left.iloc[0], \n",
    "                                'height': sub_set_first.height.iloc[0], \n",
    "                                'width': sub_set_first.width.iloc[0]})\n",
    "        temp_df['top'].iloc[1:] = None\n",
    "        temp_df['top'].iloc[-1] = sub_set_second.top.iloc[0]\n",
    "        temp_df['left'].iloc[1:] = None\n",
    "        temp_df['left'].iloc[-1] = sub_set_second.left.iloc[0]\n",
    "        temp_df['height'].iloc[1:] = None\n",
    "        temp_df['height'].iloc[-1] = sub_set_second.height.iloc[0]\n",
    "        temp_df['width'].iloc[1:] = None\n",
    "        temp_df['width'].iloc[-1] = sub_set_second.width.iloc[0]\n",
    "        temp_df = temp_df.interpolate()\n",
    "        over_df = pd.concat([over_df, temp_df])\n",
    "    monster_df = pd.concat([monster_df, over_df])\n",
    "    \n",
    "monster_df = monster_df.drop_duplicates().sort_values('frame')"
   ]
  },
  {
   "cell_type": "code",
   "execution_count": 9,
   "id": "16f7dc6e-80e1-402f-bf8e-a09dd48ad862",
   "metadata": {},
   "outputs": [],
   "source": [
    "def convert_to_yolo_v7(df):\n",
    "    tmp = df.copy()\n",
    "    tmp['top'] = tmp['top'] / 608\n",
    "    tmp['left'] = tmp['left'] / 608\n",
    "    tmp['height'] = tmp['height'] / 608\n",
    "    tmp['width'] = tmp['width'] / 608\n",
    "    tmp['label'] = tmp['label'].replace({'bot': 0, 'mob': 1})\n",
    "    \n",
    "    # tmp['rank'] = tmp.groupby('frame').object_id.rank(method='dense').astype(int)\n",
    "    # tmp['filename'] = tmp['frame'].astype(str) + '_' + tmp['rank'].astype(str)\n",
    "    return tmp.drop(columns=['object_id']).reset_index(drop=True)"
   ]
  },
  {
   "cell_type": "code",
   "execution_count": 10,
   "id": "772c3f93-ce3a-42ca-a470-6aae981e57a4",
   "metadata": {},
   "outputs": [],
   "source": [
    "df_yolo = convert_to_yolo_v7(monster_df)"
   ]
  },
  {
   "cell_type": "code",
   "execution_count": 11,
   "id": "169bcfaf-9555-4a8f-9af6-90cb2255f993",
   "metadata": {},
   "outputs": [],
   "source": [
    "def save_frames(trim_name, df):\n",
    "    \n",
    "    vidcap = cv2.VideoCapture(f'Video/Локотех_{trim_name}.mp4')\n",
    "    success, image = vidcap.read()\n",
    "    count = 1\n",
    "    \n",
    "    while success:\n",
    "        image = cv2.resize(image, (608, 608))\n",
    "        cv2.imwrite(f\"Images/{trim_name[-1]}_{count}.jpg\", image)\n",
    "        annotations = df[df.frame == count].drop(columns='frame')\n",
    "        annotations.to_csv(f\"Images/{trim_name[-1]}_{count}.txt\", header=None, index=None, sep=' ')\n",
    "        \n",
    "        success,image = vidcap.read()\n",
    "        count += 1"
   ]
  },
  {
   "cell_type": "code",
   "execution_count": 12,
   "id": "b48d65c1-c252-4c06-9fe3-74d02d137b45",
   "metadata": {},
   "outputs": [],
   "source": [
    "save_frames('Trim3', df_yolo)"
   ]
  },
  {
   "cell_type": "code",
   "execution_count": 13,
   "id": "6eb7cf8a-6951-4a1a-b0ac-bd815f6db6dd",
   "metadata": {},
   "outputs": [],
   "source": [
    "import glob\n",
    "import os\n",
    "import random \n",
    "\n",
    "def train_val_split(folder):\n",
    "    if os.getcwd() != folder:\n",
    "        os.chdir(f\"{folder}\")\n",
    "    \n",
    "    images = glob.glob(\"*.jpg\")\n",
    "    annots = glob.glob(\"*.txt\")\n",
    "    \n",
    "    val_images = random.sample(images, int(len(images) * 0.2))\n",
    "    test_images = random.sample(val_images, int(len(val_images) * 0.3))\n",
    "    \n",
    "    \n",
    "    \n",
    "    train_folder = '/Users/dushamishkin/Desktop/Jupyter/HAR/yolov7/train'\n",
    "    test_folder = '/Users/dushamishkin/Desktop/Jupyter/HAR/yolov7/test'\n",
    "    val_folder = '/Users/dushamishkin/Desktop/Jupyter/HAR/yolov7/valid'\n",
    "    \n",
    "    for name in images:\n",
    "        name = name[:-4]\n",
    "        if f\"{name}.jpg\" in val_images:\n",
    "            \n",
    "            if f\"{name}.jpg\" in test_images:\n",
    "                os.replace(f\"{folder}/{name}.jpg\", f\"{test_folder}/images/{name}.jpg\")\n",
    "                os.replace(f\"{folder}/{name}.txt\", f\"{test_folder}/labels/{name}.txt\")\n",
    "            \n",
    "            else:\n",
    "                os.replace(f\"{folder}/{name}.jpg\", f\"{val_folder}/images/{name}.jpg\")\n",
    "                os.replace(f\"{folder}/{name}.txt\", f\"{val_folder}/labels/{name}.txt\")\n",
    "            \n",
    "        else:\n",
    "            os.replace(f\"{folder}/{name}.jpg\", f\"{train_folder}/images/{name}.jpg\")\n",
    "            os.replace(f\"{folder}/{name}.txt\", f\"{train_folder}/labels/{name}.txt\")\n",
    "\n",
    "    \n",
    "#     os.mkdir('/Users/dushamishkin/Desktop/Jupyter/HAR/yolov7/train')\n",
    "#     os.mkdir('/Users/dushamishkin/Desktop/Jupyter/HAR/yolov7/train/images')\n",
    "#     os.mkdir('/Users/dushamishkin/Desktop/Jupyter/HAR/yolov7/train/labels')\n",
    "    \n",
    "#     os.mkdir('/Users/dushamishkin/Desktop/Jupyter/HAR/yolov7/test')\n",
    "#     os.mkdir('/Users/dushamishkin/Desktop/Jupyter/HAR/yolov7/test/images')\n",
    "#     os.mkdir('/Users/dushamishkin/Desktop/Jupyter/HAR/yolov7/test/labels')\n",
    "        \n",
    "    os.chdir('/Users/dushamishkin/Desktop/Jupyter/HAR/')"
   ]
  },
  {
   "cell_type": "code",
   "execution_count": 14,
   "id": "52c897b6-3286-411f-80af-3c0fbfd5f618",
   "metadata": {},
   "outputs": [],
   "source": [
    "train_val_split('/Users/dushamishkin/Desktop/Jupyter/HAR/Images')"
   ]
  }
 ],
 "metadata": {
  "kernelspec": {
   "display_name": "Python 3 (ipykernel)",
   "language": "python",
   "name": "python3"
  },
  "language_info": {
   "codemirror_mode": {
    "name": "ipython",
    "version": 3
   },
   "file_extension": ".py",
   "mimetype": "text/x-python",
   "name": "python",
   "nbconvert_exporter": "python",
   "pygments_lexer": "ipython3",
   "version": "3.10.9"
  }
 },
 "nbformat": 4,
 "nbformat_minor": 5
}
