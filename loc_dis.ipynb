{
 "cells": [
  {
   "cell_type": "code",
   "execution_count": 93,
   "id": "5844edec-4c7b-4294-8654-a5fa08330de2",
   "metadata": {
    "tags": []
   },
   "outputs": [],
   "source": [
    "import cv2\n",
    "import pandas as pd\n",
    "import numpy as np\n",
    "import json\n",
    "import pybboxes as pbx"
   ]
  },
  {
   "cell_type": "code",
   "execution_count": 94,
   "id": "e92af6dc-8637-4468-b1c7-064bd74663ba",
   "metadata": {
    "tags": []
   },
   "outputs": [],
   "source": [
    "pd.options.mode.chained_assignment = None \n",
    "HEIGHT = 720\n",
    "WIDTH = 1280"
   ]
  },
  {
   "cell_type": "code",
   "execution_count": 96,
   "id": "d2bd6534-3744-4cb1-a40d-f6af2d99e878",
   "metadata": {
    "tags": []
   },
   "outputs": [],
   "source": [
    "def preprocess_and_save(trim_data):\n",
    "    for i, trim in enumerate(trim_data, start=1):\n",
    "        project = list(trim['projects.clgwbo68i04k1071t3d8i4qo1.labels'][0]['annotations']['frames'].items())\n",
    "        matrix = []\n",
    "        for frame in project:\n",
    "            frame_num = frame[0]\n",
    "            objects = frame[1]['objects']\n",
    "            obj_id = objects.keys()\n",
    "\n",
    "            for aidi in obj_id:\n",
    "                row = []\n",
    "                bbox = [k[1] for k in [*objects[aidi]['bounding_box'].items()]]\n",
    "                row.append([frame_num, aidi, objects[aidi]['name'], *bbox])\n",
    "                matrix.extend(row)\n",
    "\n",
    "        df = pd.DataFrame(matrix, columns=['frame', 'object_id', 'label', 'top', 'left', 'height', 'width'])\n",
    "        df.frame = df.frame.astype(int)\n",
    "\n",
    "        monster_df = pd.DataFrame()\n",
    "        for obj in df.object_id.unique().tolist():\n",
    "            over_df = pd.DataFrame()\n",
    "            slice_bob = df[df.object_id == obj].sort_values('frame')\n",
    "            for first, second in zip(slice_bob.frame.unique().tolist(), slice_bob.frame.unique().tolist()[1:]):\n",
    "                frame_numbers = range(first, second + 1)\n",
    "                sub_set_first = slice_bob[slice_bob.frame == first][['top', 'left', 'height', 'width']]\n",
    "                sub_set_second = slice_bob[slice_bob.frame == second][['top', 'left', 'height', 'width']]\n",
    "                temp_df = pd.DataFrame({'frame': frame_numbers, \n",
    "                                        'object_id': obj, \n",
    "                                        'label': slice_bob.label.iloc[0], \n",
    "                                        'top': sub_set_first.top.iloc[0], \n",
    "                                        'left': sub_set_first.left.iloc[0], \n",
    "                                        'height': sub_set_first.height.iloc[0], \n",
    "                                        'width': sub_set_first.width.iloc[0]})\n",
    "                temp_df['top'].iloc[1:] = None\n",
    "                temp_df['top'].iloc[-1] = sub_set_second.top.iloc[0]\n",
    "                temp_df['left'].iloc[1:] = None\n",
    "                temp_df['left'].iloc[-1] = sub_set_second.left.iloc[0]\n",
    "                temp_df['height'].iloc[1:] = None\n",
    "                temp_df['height'].iloc[-1] = sub_set_second.height.iloc[0]\n",
    "                temp_df['width'].iloc[1:] = None\n",
    "                temp_df['width'].iloc[-1] = sub_set_second.width.iloc[0]\n",
    "                temp_df = temp_df.interpolate()\n",
    "                over_df = pd.concat([over_df, temp_df])\n",
    "            monster_df = pd.concat([monster_df, over_df])\n",
    "\n",
    "        monster_df = monster_df.drop_duplicates().sort_values('frame')\n",
    "        monster_df = monster_df[['frame', 'object_id', 'label', 'top', 'left', 'width', 'height']]\n",
    "\n",
    "        monster_df['x_center'] = (monster_df['left'] + monster_df['width'] / 2) / WIDTH\n",
    "        monster_df['y_center'] = (monster_df['top'] + monster_df['height'] / 2) / HEIGHT\n",
    "        monster_df['width_norm'] = monster_df['width'] / WIDTH\n",
    "        monster_df['height_norm'] = monster_df['height'] / HEIGHT\n",
    "        monster_df = monster_df[['frame', 'label', 'x_center', 'y_center', 'width_norm', 'height_norm']]\n",
    "\n",
    "        vidcap = cv2.VideoCapture(f'Video/Локотех_Trim{i}.mp4')\n",
    "        success, image = vidcap.read()\n",
    "        count = 1\n",
    "\n",
    "        while success:\n",
    "            cv2.imwrite(f\"Images/{i}_{count}.jpg\", image)\n",
    "            annotations = monster_df[monster_df.frame == count].drop(columns='frame')\n",
    "            annotations.to_csv(f\"Images/{i}_{count}.txt\", header=None, index=None, sep=' ')\n",
    "\n",
    "            success,image = vidcap.read()\n",
    "            count += 1"
   ]
  },
  {
   "cell_type": "code",
   "execution_count": 86,
   "id": "c313c766-e1ef-4147-802b-6b2f2583c08c",
   "metadata": {
    "tags": []
   },
   "outputs": [],
   "source": [
    "with open('bboxes.json', 'r') as j:\n",
    "    contents = json.loads(j.read())\n",
    "    preprocess_and_save(contents)\n",
    "    contents.close()"
   ]
  },
  {
   "cell_type": "code",
   "execution_count": 13,
   "id": "6eb7cf8a-6951-4a1a-b0ac-bd815f6db6dd",
   "metadata": {},
   "outputs": [],
   "source": [
    "import glob\n",
    "import os\n",
    "import random \n",
    "\n",
    "def train_val_split(folder):\n",
    "    if os.getcwd() != folder:\n",
    "        os.chdir(f\"{folder}\")\n",
    "    \n",
    "    images = glob.glob(\"*.jpg\")\n",
    "    annots = glob.glob(\"*.txt\")\n",
    "    \n",
    "    val_images = random.sample(images, int(len(images) * 0.2))\n",
    "    test_images = random.sample(val_images, int(len(val_images) * 0.3))\n",
    "    \n",
    "    train_folder = '/Users/dushamishkin/Desktop/Jupyter/HAR/yolov7/train'\n",
    "    test_folder = '/Users/dushamishkin/Desktop/Jupyter/HAR/yolov7/test'\n",
    "    val_folder = '/Users/dushamishkin/Desktop/Jupyter/HAR/yolov7/valid'\n",
    "    \n",
    "    for name in images:\n",
    "        name = name[:-4]\n",
    "        if f\"{name}.jpg\" in val_images:\n",
    "            \n",
    "            if f\"{name}.jpg\" in test_images:\n",
    "                os.replace(f\"{folder}/{name}.jpg\", f\"{test_folder}/images/{name}.jpg\")\n",
    "                os.replace(f\"{folder}/{name}.txt\", f\"{test_folder}/labels/{name}.txt\")\n",
    "            \n",
    "            else:\n",
    "                os.replace(f\"{folder}/{name}.jpg\", f\"{val_folder}/images/{name}.jpg\")\n",
    "                os.replace(f\"{folder}/{name}.txt\", f\"{val_folder}/labels/{name}.txt\")\n",
    "            \n",
    "        else:\n",
    "            os.replace(f\"{folder}/{name}.jpg\", f\"{train_folder}/images/{name}.jpg\")\n",
    "            os.replace(f\"{folder}/{name}.txt\", f\"{train_folder}/labels/{name}.txt\")\n",
    "        \n",
    "    os.chdir('/Users/dushamishkin/Desktop/Jupyter/HAR/')"
   ]
  },
  {
   "cell_type": "code",
   "execution_count": 14,
   "id": "52c897b6-3286-411f-80af-3c0fbfd5f618",
   "metadata": {},
   "outputs": [],
   "source": [
    "train_val_split('/Users/dushamishkin/Desktop/Jupyter/HAR/Images')"
   ]
  },
  {
   "cell_type": "code",
   "execution_count": null,
   "id": "17bca04f-7b6f-4407-b229-a380a4dd1697",
   "metadata": {},
   "outputs": [],
   "source": [
    "# DO NOT RUN CODE BELOW"
   ]
  },
  {
   "cell_type": "code",
   "execution_count": 32,
   "id": "470d7fd2-2eac-49bd-90ab-1621d5dc2945",
   "metadata": {
    "tags": []
   },
   "outputs": [],
   "source": [
    "def show_frames_w_bboxes(trim_name, df):\n",
    "    vidcap = cv2.VideoCapture(f'Video/Локотех_{trim_name}.mp4')\n",
    "    success, image = vidcap.read()\n",
    "    count = 1\n",
    "        \n",
    "    while success:\n",
    "        objects = df[df.frame == count]\n",
    "        for _, obj in objects.iterrows():\n",
    "            name = obj.label\n",
    "        \n",
    "            if name == 'bot':\n",
    "                color = (0, 230, 255)\n",
    "            elif name == 'mob':\n",
    "                color = (188, 0, 255)\n",
    "            else:\n",
    "                color = (255, 255, 255)\n",
    "                \n",
    "            t = int(obj.top)\n",
    "            h = int(obj.height)\n",
    "            l = int(obj.left)\n",
    "            w = int(obj.width)\n",
    "                \n",
    "            cv2.rectangle(image, (l + w, t), (l, t + h), color, 2)\n",
    "            \n",
    "        cv2.imshow('lol', image)\n",
    "        cv2.waitKey(0)\n",
    "        cv2.destroyWindow('lol')\n",
    "        success, image = vidcap.read()\n",
    "        count += 1"
   ]
  },
  {
   "cell_type": "code",
   "execution_count": 35,
   "id": "3def6a0d-a032-487c-bc7e-ffcd3170051d",
   "metadata": {
    "tags": []
   },
   "outputs": [
    {
     "ename": "error",
     "evalue": "OpenCV(4.7.0) D:\\a\\opencv-python\\opencv-python\\opencv\\modules\\highgui\\src\\window_w32.cpp:1261: error: (-27:Null pointer) NULL window: 'lol' in function 'cvDestroyWindow'\n",
     "output_type": "error",
     "traceback": [
      "\u001b[1;31m---------------------------------------------------------------------------\u001b[0m",
      "\u001b[1;31merror\u001b[0m                                     Traceback (most recent call last)",
      "Cell \u001b[1;32mIn[35], line 1\u001b[0m\n\u001b[1;32m----> 1\u001b[0m \u001b[43mshow_frames_w_bboxes\u001b[49m\u001b[43m(\u001b[49m\u001b[38;5;124;43m'\u001b[39;49m\u001b[38;5;124;43mTrim3\u001b[39;49m\u001b[38;5;124;43m'\u001b[39;49m\u001b[43m,\u001b[49m\u001b[43m \u001b[49m\u001b[43mmonster_df\u001b[49m\u001b[43m)\u001b[49m\n",
      "Cell \u001b[1;32mIn[32], line 27\u001b[0m, in \u001b[0;36mshow_frames_w_bboxes\u001b[1;34m(trim_name, df)\u001b[0m\n\u001b[0;32m     25\u001b[0m cv2\u001b[38;5;241m.\u001b[39mimshow(\u001b[38;5;124m'\u001b[39m\u001b[38;5;124mlol\u001b[39m\u001b[38;5;124m'\u001b[39m, image)\n\u001b[0;32m     26\u001b[0m cv2\u001b[38;5;241m.\u001b[39mwaitKey(\u001b[38;5;241m0\u001b[39m)\n\u001b[1;32m---> 27\u001b[0m \u001b[43mcv2\u001b[49m\u001b[38;5;241;43m.\u001b[39;49m\u001b[43mdestroyWindow\u001b[49m\u001b[43m(\u001b[49m\u001b[38;5;124;43m'\u001b[39;49m\u001b[38;5;124;43mlol\u001b[39;49m\u001b[38;5;124;43m'\u001b[39;49m\u001b[43m)\u001b[49m\n\u001b[0;32m     28\u001b[0m success, image \u001b[38;5;241m=\u001b[39m vidcap\u001b[38;5;241m.\u001b[39mread()\n\u001b[0;32m     29\u001b[0m count \u001b[38;5;241m+\u001b[39m\u001b[38;5;241m=\u001b[39m \u001b[38;5;241m1\u001b[39m\n",
      "\u001b[1;31merror\u001b[0m: OpenCV(4.7.0) D:\\a\\opencv-python\\opencv-python\\opencv\\modules\\highgui\\src\\window_w32.cpp:1261: error: (-27:Null pointer) NULL window: 'lol' in function 'cvDestroyWindow'\n"
     ]
    }
   ],
   "source": [
    "show_frames_w_bboxes('Trim3', monster_df)"
   ]
  }
 ],
 "metadata": {
  "kernelspec": {
   "display_name": "Python 3 (ipykernel)",
   "language": "python",
   "name": "python3"
  },
  "language_info": {
   "codemirror_mode": {
    "name": "ipython",
    "version": 3
   },
   "file_extension": ".py",
   "mimetype": "text/x-python",
   "name": "python",
   "nbconvert_exporter": "python",
   "pygments_lexer": "ipython3",
   "version": "3.10.10"
  }
 },
 "nbformat": 4,
 "nbformat_minor": 5
}
